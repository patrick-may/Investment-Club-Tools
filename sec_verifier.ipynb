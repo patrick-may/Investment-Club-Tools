{
 "cells": [
  {
   "cell_type": "code",
   "execution_count": 97,
   "metadata": {},
   "outputs": [],
   "source": [
    "import requests\n",
    "# uncomment this if you need to install the packages\n",
    "# !{sys.executable} -m pip install pyarrow\n",
    "import polars as pl\n",
    "from datetime import datetime, timedelta\n",
    "import time\n",
    "import numpy as np\n",
    "\n",
    "\n",
    "pl.Config.set_tbl_rows(100)\n",
    "email = str(open(\"info.txt\", \"r\").read())\n",
    "headers = {\"User-Agent\": email}\n",
    "\n",
    "tickers_cik = requests.get(\"https://www.sec.gov/files/company_tickers.json\", headers=headers)\n",
    "time.sleep(.1)\n",
    "df = pl.DataFrame(tickers_cik.json())\n",
    "\n",
    "# ugly json flattening in regular python sorry :_( \n",
    "ciks, tiks, title = [], [], []\n",
    "for i in df.iter_rows():\n",
    "    for data in i:\n",
    "        # fix ragged cik nums\n",
    "        temp = str(data[\"cik_str\"])\n",
    "        temp = \"0\" * (10 - len(temp)) + temp\n",
    "        ciks.append(temp)\n",
    "        tiks.append(data[\"ticker\"])\n",
    "        title.append(data[\"title\"])\n",
    "\n",
    "# better dataframe\n",
    "reformatted = pl.DataFrame( {\n",
    "    \"cik_str\":ciks,\n",
    "    \"ticker\":tiks,\n",
    "    \"name\":title}\n",
    "    )"
   ]
  },
  {
   "cell_type": "code",
   "execution_count": 98,
   "metadata": {},
   "outputs": [],
   "source": [
    "# get all the historical data we want here!\n",
    "# change this to whatever ticker you want to investigate\n",
    "lookup = \"JNPR\"\n",
    "\n",
    "lookup_cik, _, stock_name =reformatted.row(by_predicate=(pl.col(\"ticker\")==lookup))\n",
    "\n",
    "# edit the xBrl tags as needed\n",
    "# instead of income, what if we look at Earnings?\n",
    "net_income_req = f\"https://data.sec.gov/api/xbrl/companyconcept/CIK{lookup_cik}/us-gaap/NetIncomeLoss.json\"\n",
    "\n",
    "# NetCashProvidedByUsedInOperatingActivities\n",
    "# CashCashEquivalentsRestrictedCashAndRestrictedCashEquivalents\n",
    "cash_flow_req = f\"https://data.sec.gov/api/xbrl/companyconcept/CIK{lookup_cik}/us-gaap/NetCashProvidedByUsedInOperatingActivities.json\"\n",
    "\n",
    "# RevenueFromContractWithCustomerExcludingAssessedTax\n",
    "# RevenuesTotal\n",
    "# NoninterestIncomeExcludingProvisionForOtherCreditLosses\n",
    "revenue_req = f\"\"\"https://data.sec.gov/api/xbrl/companyconcept/CIK{lookup_cik}/us-gaap/RevenueFromContractWithCustomerExcludingAssessedTax.json\"\"\"\n",
    "\n",
    "net_inc = requests.get(net_income_req, headers=headers)\n",
    "time.sleep(.1)\n",
    "cash_flow = requests.get(cash_flow_req, headers=headers)\n",
    "time.sleep(.1)\n",
    "revenue = requests.get(revenue_req, headers=headers)\n",
    "time.sleep(.1)"
   ]
  },
  {
   "cell_type": "code",
   "execution_count": 99,
   "metadata": {},
   "outputs": [
    {
     "ename": "JSONDecodeError",
     "evalue": "Expecting value: line 1 column 1 (char 0)",
     "output_type": "error",
     "traceback": [
      "\u001b[1;31m---------------------------------------------------------------------------\u001b[0m",
      "\u001b[1;31mJSONDecodeError\u001b[0m                           Traceback (most recent call last)",
      "Cell \u001b[1;32mIn[99], line 15\u001b[0m\n\u001b[0;32m     13\u001b[0m income_pl \u001b[39m=\u001b[39m pl\u001b[39m.\u001b[39mDataFrame({k:v \u001b[39mfor\u001b[39;00m k, v \u001b[39min\u001b[39;00m flatten(kv)} \u001b[39mfor\u001b[39;00m kv \u001b[39min\u001b[39;00m net_inc\u001b[39m.\u001b[39mjson()[\u001b[39m\"\u001b[39m\u001b[39munits\u001b[39m\u001b[39m\"\u001b[39m][\u001b[39m\"\u001b[39m\u001b[39mUSD\u001b[39m\u001b[39m\"\u001b[39m])\n\u001b[0;32m     14\u001b[0m cash_pl \u001b[39m=\u001b[39m pl\u001b[39m.\u001b[39mDataFrame({k:v \u001b[39mfor\u001b[39;00m k, v \u001b[39min\u001b[39;00m flatten(kv)} \u001b[39mfor\u001b[39;00m kv \u001b[39min\u001b[39;00m cash_flow\u001b[39m.\u001b[39mjson()[\u001b[39m\"\u001b[39m\u001b[39munits\u001b[39m\u001b[39m\"\u001b[39m][\u001b[39m\"\u001b[39m\u001b[39mUSD\u001b[39m\u001b[39m\"\u001b[39m])\n\u001b[1;32m---> 15\u001b[0m revenue_pl \u001b[39m=\u001b[39m pl\u001b[39m.\u001b[39mDataFrame({k:v \u001b[39mfor\u001b[39;00m k, v \u001b[39min\u001b[39;00m flatten(kv)} \u001b[39mfor\u001b[39;00m kv \u001b[39min\u001b[39;00m revenue\u001b[39m.\u001b[39;49mjson()[\u001b[39m\"\u001b[39m\u001b[39munits\u001b[39m\u001b[39m\"\u001b[39m][\u001b[39m\"\u001b[39m\u001b[39mUSD\u001b[39m\u001b[39m\"\u001b[39m])\n\u001b[0;32m     17\u001b[0m \u001b[39mdef\u001b[39;00m \u001b[39myoy_change_formatter\u001b[39m(dataf, metric):\n\u001b[0;32m     18\u001b[0m     dataf \u001b[39m=\u001b[39m dataf\u001b[39m.\u001b[39mwith_columns(\n\u001b[0;32m     19\u001b[0m         [pl\u001b[39m.\u001b[39mcol(\u001b[39m\"\u001b[39m\u001b[39mstart\u001b[39m\u001b[39m\"\u001b[39m)\u001b[39m.\u001b[39mstr\u001b[39m.\u001b[39mstrptime(pl\u001b[39m.\u001b[39mDate, fmt\u001b[39m=\u001b[39m\u001b[39m\"\u001b[39m\u001b[39m%\u001b[39m\u001b[39mY-\u001b[39m\u001b[39m%\u001b[39m\u001b[39mm-\u001b[39m\u001b[39m%d\u001b[39;00m\u001b[39m\"\u001b[39m)\u001b[39m.\u001b[39mcast(pl\u001b[39m.\u001b[39mDate),\n\u001b[0;32m     20\u001b[0m         pl\u001b[39m.\u001b[39mcol(\u001b[39m\"\u001b[39m\u001b[39mend\u001b[39m\u001b[39m\"\u001b[39m)\u001b[39m.\u001b[39mstr\u001b[39m.\u001b[39mstrptime(pl\u001b[39m.\u001b[39mDate, fmt\u001b[39m=\u001b[39m\u001b[39m\"\u001b[39m\u001b[39m%\u001b[39m\u001b[39mY-\u001b[39m\u001b[39m%\u001b[39m\u001b[39mm-\u001b[39m\u001b[39m%d\u001b[39;00m\u001b[39m\"\u001b[39m)\u001b[39m.\u001b[39mcast(pl\u001b[39m.\u001b[39mDate),\n\u001b[1;32m   (...)\u001b[0m\n\u001b[0;32m     24\u001b[0m             (pl\u001b[39m.\u001b[39mcol(\u001b[39m\"\u001b[39m\u001b[39mframe\u001b[39m\u001b[39m\"\u001b[39m) \u001b[39m!=\u001b[39m \u001b[39mNone\u001b[39;00m)\n\u001b[0;32m     25\u001b[0m         )\u001b[39m.\u001b[39mdrop(\u001b[39m\"\u001b[39m\u001b[39mfy\u001b[39m\u001b[39m\"\u001b[39m)\u001b[39m.\u001b[39mdrop(\u001b[39m\"\u001b[39m\u001b[39mfp\u001b[39m\u001b[39m\"\u001b[39m)\u001b[39m.\u001b[39mdrop(\u001b[39m\"\u001b[39m\u001b[39mform\u001b[39m\u001b[39m\"\u001b[39m)\u001b[39m.\u001b[39mdrop(\u001b[39m\"\u001b[39m\u001b[39mfiled\u001b[39m\u001b[39m\"\u001b[39m)\u001b[39m.\u001b[39mdrop(\u001b[39m\"\u001b[39m\u001b[39mframe\u001b[39m\u001b[39m\"\u001b[39m)\n",
      "File \u001b[1;32m~\\AppData\\Local\\Packages\\PythonSoftwareFoundation.Python.3.10_qbz5n2kfra8p0\\LocalCache\\local-packages\\Python310\\site-packages\\requests\\models.py:899\u001b[0m, in \u001b[0;36mResponse.json\u001b[1;34m(self, **kwargs)\u001b[0m\n\u001b[0;32m    897\u001b[0m \u001b[39mif\u001b[39;00m encoding \u001b[39mis\u001b[39;00m \u001b[39mnot\u001b[39;00m \u001b[39mNone\u001b[39;00m:\n\u001b[0;32m    898\u001b[0m     \u001b[39mtry\u001b[39;00m:\n\u001b[1;32m--> 899\u001b[0m         \u001b[39mreturn\u001b[39;00m complexjson\u001b[39m.\u001b[39mloads(\n\u001b[0;32m    900\u001b[0m             \u001b[39mself\u001b[39m\u001b[39m.\u001b[39mcontent\u001b[39m.\u001b[39mdecode(encoding), \u001b[39m*\u001b[39m\u001b[39m*\u001b[39mkwargs\n\u001b[0;32m    901\u001b[0m         )\n\u001b[0;32m    902\u001b[0m     \u001b[39mexcept\u001b[39;00m \u001b[39mUnicodeDecodeError\u001b[39;00m:\n\u001b[0;32m    903\u001b[0m         \u001b[39m# Wrong UTF codec detected; usually because it's not UTF-8\u001b[39;00m\n\u001b[0;32m    904\u001b[0m         \u001b[39m# but some other 8-bit codec.  This is an RFC violation,\u001b[39;00m\n\u001b[0;32m    905\u001b[0m         \u001b[39m# and the server didn't bother to tell us what codec *was*\u001b[39;00m\n\u001b[0;32m    906\u001b[0m         \u001b[39m# used.\u001b[39;00m\n\u001b[0;32m    907\u001b[0m         \u001b[39mpass\u001b[39;00m\n",
      "File \u001b[1;32mC:\\Program Files\\WindowsApps\\PythonSoftwareFoundation.Python.3.10_3.10.2800.0_x64__qbz5n2kfra8p0\\lib\\json\\__init__.py:346\u001b[0m, in \u001b[0;36mloads\u001b[1;34m(s, cls, object_hook, parse_float, parse_int, parse_constant, object_pairs_hook, **kw)\u001b[0m\n\u001b[0;32m    341\u001b[0m     s \u001b[39m=\u001b[39m s\u001b[39m.\u001b[39mdecode(detect_encoding(s), \u001b[39m'\u001b[39m\u001b[39msurrogatepass\u001b[39m\u001b[39m'\u001b[39m)\n\u001b[0;32m    343\u001b[0m \u001b[39mif\u001b[39;00m (\u001b[39mcls\u001b[39m \u001b[39mis\u001b[39;00m \u001b[39mNone\u001b[39;00m \u001b[39mand\u001b[39;00m object_hook \u001b[39mis\u001b[39;00m \u001b[39mNone\u001b[39;00m \u001b[39mand\u001b[39;00m\n\u001b[0;32m    344\u001b[0m         parse_int \u001b[39mis\u001b[39;00m \u001b[39mNone\u001b[39;00m \u001b[39mand\u001b[39;00m parse_float \u001b[39mis\u001b[39;00m \u001b[39mNone\u001b[39;00m \u001b[39mand\u001b[39;00m\n\u001b[0;32m    345\u001b[0m         parse_constant \u001b[39mis\u001b[39;00m \u001b[39mNone\u001b[39;00m \u001b[39mand\u001b[39;00m object_pairs_hook \u001b[39mis\u001b[39;00m \u001b[39mNone\u001b[39;00m \u001b[39mand\u001b[39;00m \u001b[39mnot\u001b[39;00m kw):\n\u001b[1;32m--> 346\u001b[0m     \u001b[39mreturn\u001b[39;00m _default_decoder\u001b[39m.\u001b[39;49mdecode(s)\n\u001b[0;32m    347\u001b[0m \u001b[39mif\u001b[39;00m \u001b[39mcls\u001b[39m \u001b[39mis\u001b[39;00m \u001b[39mNone\u001b[39;00m:\n\u001b[0;32m    348\u001b[0m     \u001b[39mcls\u001b[39m \u001b[39m=\u001b[39m JSONDecoder\n",
      "File \u001b[1;32mC:\\Program Files\\WindowsApps\\PythonSoftwareFoundation.Python.3.10_3.10.2800.0_x64__qbz5n2kfra8p0\\lib\\json\\decoder.py:337\u001b[0m, in \u001b[0;36mJSONDecoder.decode\u001b[1;34m(self, s, _w)\u001b[0m\n\u001b[0;32m    332\u001b[0m \u001b[39mdef\u001b[39;00m \u001b[39mdecode\u001b[39m(\u001b[39mself\u001b[39m, s, _w\u001b[39m=\u001b[39mWHITESPACE\u001b[39m.\u001b[39mmatch):\n\u001b[0;32m    333\u001b[0m     \u001b[39m\"\"\"Return the Python representation of ``s`` (a ``str`` instance\u001b[39;00m\n\u001b[0;32m    334\u001b[0m \u001b[39m    containing a JSON document).\u001b[39;00m\n\u001b[0;32m    335\u001b[0m \n\u001b[0;32m    336\u001b[0m \u001b[39m    \"\"\"\u001b[39;00m\n\u001b[1;32m--> 337\u001b[0m     obj, end \u001b[39m=\u001b[39m \u001b[39mself\u001b[39;49m\u001b[39m.\u001b[39;49mraw_decode(s, idx\u001b[39m=\u001b[39;49m_w(s, \u001b[39m0\u001b[39;49m)\u001b[39m.\u001b[39;49mend())\n\u001b[0;32m    338\u001b[0m     end \u001b[39m=\u001b[39m _w(s, end)\u001b[39m.\u001b[39mend()\n\u001b[0;32m    339\u001b[0m     \u001b[39mif\u001b[39;00m end \u001b[39m!=\u001b[39m \u001b[39mlen\u001b[39m(s):\n",
      "File \u001b[1;32mC:\\Program Files\\WindowsApps\\PythonSoftwareFoundation.Python.3.10_3.10.2800.0_x64__qbz5n2kfra8p0\\lib\\json\\decoder.py:355\u001b[0m, in \u001b[0;36mJSONDecoder.raw_decode\u001b[1;34m(self, s, idx)\u001b[0m\n\u001b[0;32m    353\u001b[0m     obj, end \u001b[39m=\u001b[39m \u001b[39mself\u001b[39m\u001b[39m.\u001b[39mscan_once(s, idx)\n\u001b[0;32m    354\u001b[0m \u001b[39mexcept\u001b[39;00m \u001b[39mStopIteration\u001b[39;00m \u001b[39mas\u001b[39;00m err:\n\u001b[1;32m--> 355\u001b[0m     \u001b[39mraise\u001b[39;00m JSONDecodeError(\u001b[39m\"\u001b[39m\u001b[39mExpecting value\u001b[39m\u001b[39m\"\u001b[39m, s, err\u001b[39m.\u001b[39mvalue) \u001b[39mfrom\u001b[39;00m \u001b[39mNone\u001b[39m\n\u001b[0;32m    356\u001b[0m \u001b[39mreturn\u001b[39;00m obj, end\n",
      "\u001b[1;31mJSONDecodeError\u001b[0m: Expecting value: line 1 column 1 (char 0)"
     ]
    }
   ],
   "source": [
    "# uh stack overflow??? brain flattened 0.o\n",
    "def flatten(kv, prefix=[]):\n",
    "    for k, v in kv.items():\n",
    "        if isinstance(v, dict):\n",
    "            yield from flatten(v, prefix+[str(k)])\n",
    "        else:\n",
    "            if prefix:\n",
    "                yield '_'.join(prefix+[str(k)]), v\n",
    "            else:\n",
    "                yield str(k), v\n",
    "\n",
    "\n",
    "income_pl = pl.DataFrame({k:v for k, v in flatten(kv)} for kv in net_inc.json()[\"units\"][\"USD\"])\n",
    "cash_pl = pl.DataFrame({k:v for k, v in flatten(kv)} for kv in cash_flow.json()[\"units\"][\"USD\"])\n",
    "revenue_pl = pl.DataFrame({k:v for k, v in flatten(kv)} for kv in revenue.json()[\"units\"][\"USD\"])\n",
    "\n",
    "def yoy_change_formatter(dataf, metric):\n",
    "    dataf = dataf.with_columns(\n",
    "        [pl.col(\"start\").str.strptime(pl.Date, fmt=\"%Y-%m-%d\").cast(pl.Date),\n",
    "        pl.col(\"end\").str.strptime(pl.Date, fmt=\"%Y-%m-%d\").cast(pl.Date),\n",
    "        pl.col(\"filed\").str.strptime(pl.Date, fmt=\"%Y-%m-%d\").cast(pl.Date),\n",
    "        ]).drop(\"accn\").filter(\n",
    "            (pl.col(\"end\") - pl.col(\"start\") >= timedelta(weeks=51)) & \n",
    "            (pl.col(\"frame\") != None)\n",
    "        ).drop(\"fy\").drop(\"fp\").drop(\"form\").drop(\"filed\").drop(\"frame\")\n",
    "\n",
    "    # print( -((dataf[metric].shift(1) - dataf[metric]) / np.abs(df[metric].shift(1)) * 100) )\n",
    "    return dataf.with_columns(((pl.col(\"val\").diff(1)/abs(pl.col(\"val\").shift(1)) * 100)).alias(f\"{metric} yoy change\")).drop(\"val\")\n",
    "    \n",
    "\n",
    "income_pl = income_pl.pipe(yoy_change_formatter, \"Net Income\")\n",
    "cash_pl = cash_pl.pipe(yoy_change_formatter, \"Cash Flow\")\n",
    "revenue_pl = revenue_pl.pipe(yoy_change_formatter, \"Revenue\")\n",
    "\n",
    "\n",
    "combined = income_pl.join(cash_pl, on=\"start\", how=\"left\").drop(\"end_right\")\n",
    "combined = combined.join(revenue_pl, on=\"start\", how=\"left\").drop(\"end_right\")\n",
    "print(combined)\n",
    "\n",
    "print(\"All time average pct changes\")\n",
    "print(combined.mean())\n",
    "\n",
    "last_5yrs = combined.filter(pl.col(\"start\") >= datetime(2017, 1, 1))\n",
    "print(\"\\nLast 5 Years averages\")\n",
    "print(last_5yrs.mean())\n"
   ]
  }
 ],
 "metadata": {
  "kernelspec": {
   "display_name": "Python 3",
   "language": "python",
   "name": "python3"
  },
  "language_info": {
   "codemirror_mode": {
    "name": "ipython",
    "version": 3
   },
   "file_extension": ".py",
   "mimetype": "text/x-python",
   "name": "python",
   "nbconvert_exporter": "python",
   "pygments_lexer": "ipython3",
   "version": "3.10.10"
  },
  "orig_nbformat": 4,
  "vscode": {
   "interpreter": {
    "hash": "2e0170ee776d2bcb4cb7d6e54684e267aca3add59b6415914670e02aa4aa531a"
   }
  }
 },
 "nbformat": 4,
 "nbformat_minor": 2
}
