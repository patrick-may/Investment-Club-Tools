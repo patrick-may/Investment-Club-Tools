{
 "cells": [
  {
   "cell_type": "code",
   "execution_count": null,
   "metadata": {},
   "outputs": [],
   "source": [
    "import requests\n",
    "# uncomment this if you need to install the packages\n",
    "# !{sys.executable} -m pip install pyarrow\n",
    "import polars as pl\n",
    "from datetime import datetime, timedelta\n",
    "import time\n",
    "\n",
    "\n",
    "\n",
    "email = str(open(\"info.txt\", \"r\").read())\n",
    "headers = {\"User-Agent\": email}\n",
    "\n",
    "tickers_cik = requests.get(\"https://www.sec.gov/files/company_tickers.json\", headers=headers)\n",
    "time.sleep(.1)\n",
    "df = pl.DataFrame(tickers_cik.json())\n",
    "\n",
    "# ugly json flattening in regular python sorry :_( \n",
    "ciks, tiks, title = [], [], []\n",
    "for i in df.iter_rows():\n",
    "    for data in i:\n",
    "        # fix ragged cik nums\n",
    "        temp = str(data[\"cik_str\"])\n",
    "        temp = \"0\" * (10 - len(temp)) + temp\n",
    "        ciks.append(temp)\n",
    "        tiks.append(data[\"ticker\"])\n",
    "        title.append(data[\"title\"])\n",
    "\n",
    "# better dataframe\n",
    "reformatted = pl.DataFrame( {\n",
    "    \"cik_str\":ciks,\n",
    "    \"ticker\":tiks,\n",
    "    \"name\":title}\n",
    "    )"
   ]
  },
  {
   "cell_type": "code",
   "execution_count": null,
   "metadata": {},
   "outputs": [],
   "source": [
    "# get all the historical data we want here!\n",
    "# change this to whatever ticker you want to investigate\n",
    "lookup = \"MSFT\"\n",
    "\n",
    "lookup_cik, _, stock_name =reformatted.row(by_predicate=(pl.col(\"ticker\")==lookup))\n",
    "\n",
    "# edit the xBrl tags as needed\n",
    "net_income_req = f\"https://data.sec.gov/api/xbrl/companyconcept/CIK{lookup_cik}/us-gaap/NetIncomeLoss.json\"\n",
    "\n",
    "# NetCashProvidedByUsedInOperatingActivities\n",
    "# CashCashEquivalentsRestrictedCashAndRestrictedCashEquivalents\n",
    "cash_flow_req = f\"https://data.sec.gov/api/xbrl/companyconcept/CIK{lookup_cik}/us-gaap/NetCashProvidedByUsedInOperatingActivities.json\"\n",
    "\n",
    "# RevenueFromContractWithCustomerExcludingAssessedTax\n",
    "# RevenuesTotal\n",
    "revenue_req = f\"\"\"https://data.sec.gov/api/xbrl/companyconcept/CIK{lookup_cik}/us-gaap/RevenueFromContractWithCustomerExcludingAssessedTax.json\"\"\"\n",
    "\n",
    "net_inc = requests.get(net_income_req, headers=headers)\n",
    "time.sleep(.1)\n",
    "cash_flow = requests.get(cash_flow_req, headers=headers)\n",
    "time.sleep(.1)\n",
    "revenue = requests.get(revenue_req, headers=headers)\n",
    "time.sleep(.1)"
   ]
  },
  {
   "cell_type": "code",
   "execution_count": null,
   "metadata": {},
   "outputs": [],
   "source": [
    "# uh stack overflow??? brain flattened 0.o\n",
    "def flatten(kv, prefix=[]):\n",
    "    for k, v in kv.items():\n",
    "        if isinstance(v, dict):\n",
    "            yield from flatten(v, prefix+[str(k)])\n",
    "        else:\n",
    "            if prefix:\n",
    "                yield '_'.join(prefix+[str(k)]), v\n",
    "            else:\n",
    "                yield str(k), v\n",
    "\n",
    "\n",
    "income_pl = pl.DataFrame({k:v for k, v in flatten(kv)} for kv in net_inc.json()[\"units\"][\"USD\"])\n",
    "cash_pl = pl.DataFrame({k:v for k, v in flatten(kv)} for kv in cash_flow.json()[\"units\"][\"USD\"])\n",
    "revenue_pl = pl.DataFrame({k:v for k, v in flatten(kv)} for kv in revenue.json()[\"units\"][\"USD\"])\n",
    "\n",
    "def yoy_change_formatter(dataf, metric):\n",
    "    dataf = dataf.with_columns(\n",
    "        [pl.col(\"start\").str.strptime(pl.Date, fmt=\"%Y-%m-%d\").cast(pl.Date),\n",
    "        pl.col(\"end\").str.strptime(pl.Date, fmt=\"%Y-%m-%d\").cast(pl.Date),\n",
    "        pl.col(\"filed\").str.strptime(pl.Date, fmt=\"%Y-%m-%d\").cast(pl.Date),\n",
    "        ]).drop(\"accn\").filter(\n",
    "            (pl.col(\"end\") - pl.col(\"start\") >= timedelta(weeks=51)) & \n",
    "            (pl.col(\"frame\") != None)\n",
    "        ).drop(\"fy\").drop(\"fp\").drop(\"form\").drop(\"filed\").drop(\"frame\")\n",
    "\n",
    "    return dataf.with_columns((pl.col(\"val\").pct_change(1) * 100).alias(f\"{metric} yoy change\")).drop(\"val\")\n",
    "    \n",
    "\n",
    "income_pl = income_pl.pipe(yoy_change_formatter, \"Net Income\")\n",
    "cash_pl = cash_pl.pipe(yoy_change_formatter, \"Cash Flow\")\n",
    "revenue_pl = revenue_pl.pipe(yoy_change_formatter, \"Revenue\")\n",
    "\n",
    "\n",
    "combined = income_pl.join(cash_pl, on=\"start\", how=\"left\").drop(\"end_right\")\n",
    "combined = combined.join(revenue_pl, on=\"start\", how=\"left\").drop(\"end_right\")\n",
    "combined"
   ]
  }
 ],
 "metadata": {
  "kernelspec": {
   "display_name": "Python 3",
   "language": "python",
   "name": "python3"
  },
  "language_info": {
   "codemirror_mode": {
    "name": "ipython",
    "version": 3
   },
   "file_extension": ".py",
   "mimetype": "text/x-python",
   "name": "python",
   "nbconvert_exporter": "python",
   "pygments_lexer": "ipython3",
   "version": "3.10.9"
  },
  "orig_nbformat": 4,
  "vscode": {
   "interpreter": {
    "hash": "2e0170ee776d2bcb4cb7d6e54684e267aca3add59b6415914670e02aa4aa531a"
   }
  }
 },
 "nbformat": 4,
 "nbformat_minor": 2
}
