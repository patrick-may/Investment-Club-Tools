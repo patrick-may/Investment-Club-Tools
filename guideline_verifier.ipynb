{
 "cells": [
  {
   "cell_type": "code",
   "execution_count": 2,
   "metadata": {},
   "outputs": [],
   "source": [
    "import sys\n",
    "# first time running you may need to uncomment the install line below\n",
    "# !{sys.executable} -m pip install yfinance\n",
    "import pandas as pd\n",
    "\n",
    "#!{sys.executable} -m pip install pandas_datareader\n",
    "#import pandas_datareader as pdr\n",
    "import yfinance as yf\n",
    "\n",
    "# change `AX` to whatever stock you want more information on\n",
    "lookup = \"AX\"\n"
   ]
  },
  {
   "cell_type": "code",
   "execution_count": 18,
   "metadata": {},
   "outputs": [
    {
     "name": "stdout",
     "output_type": "stream",
     "text": [
      "Stock: AX (Amounts in thousands)\n",
      "\tEarnings\tRevenue\t\tOperating Cash Flow\n",
      "2019\t$155,131 T\t$464,012 T\t$204,421.0 T\n",
      "2020\t$183,438 T\t$538,398 T\t$284,118.0 T\n",
      "2021\t$215,707 T\t$620,253 T\t$412,582.0 T\n",
      "2022\t$240,716 T\t$702,021 T\t$210,282.0 T\n",
      "GUIDELINES FOR INVESTMENT CLUB:\n",
      "MARKET CAP WITHIN 1 - 10 B RANGE, and \n",
      "15 % GROWTH EACH YEAR IN: \n",
      "    - EARNINGS\n",
      "    - REVENUE\n",
      "    - OPERATING CASH FLOW\n",
      "\n",
      "Year\t\tEarnings\tRevenue\t\tOperating Cash Flow\n",
      "2019 - 2020\t18.25%\t\t16.03%\t\t38.99%\n",
      "2020 - 2021\t17.59%\t\t15.20%\t\t45.22%\n",
      "2021 - 2022\t11.59%\t\t13.18%\t\t-49.03%\n"
     ]
    }
   ],
   "source": [
    "tick = yf.Ticker(lookup)\n",
    "\n",
    "e = tick.earnings\n",
    "yoy_metrics = {}\n",
    "# print(tick.earnings[\"Revenue\"], tick.earnings[\"Earnings\"])\n",
    "\n",
    "\n",
    "for date, earnings, in e[\"Earnings\"].items():\n",
    "    yoy_metrics[str(date)] = {\"Earnings\": earnings}\n",
    "\n",
    "for date, rev in e[\"Revenue\"].items():\n",
    "    yoy_metrics[str(date)][\"Revenue\"] = rev\n",
    "\n",
    "for title, data in tick.cash_flow.iterrows():\n",
    "    if title == \"Operating Cash Flow\":\n",
    "        \n",
    "        for date, amt in data.items():\n",
    "            yoy_metrics[str(date.year)][\"Cash Flow\"] = amt\n",
    "        \n",
    "\n",
    "# Display the shizzing\n",
    "\n",
    "print(f\"Stock: {lookup} (Amounts in thousands)\")\n",
    "print(\"\\tEarnings\\tRevenue\\t\\tOperating Cash Flow\")\n",
    "\n",
    "for y in yoy_metrics.keys():\n",
    "    pme = f\"\"\"{y}\\t${yoy_metrics[y][\"Earnings\"]//1000:,} T\\t${yoy_metrics[y][\"Revenue\"]//1000:,} T\\t${yoy_metrics[y][\"Cash Flow\"]//1000:,} T\"\"\"\n",
    "    print(pme)\n",
    "\n",
    "    \n",
    "guidelines = \"\"\"GUIDELINES FOR INVESTMENT CLUB:\n",
    "MARKET CAP WITHIN 1 - 10 B RANGE, and \n",
    "15 % GROWTH EACH YEAR IN: \n",
    "    - EARNINGS\n",
    "    - REVENUE\n",
    "    - OPERATING CASH FLOW\n",
    "\"\"\"\n",
    "print(guidelines)\n",
    "\n",
    "calculations = {}\n",
    "for y in list(yoy_metrics.keys())[1:]:\n",
    "    prior = str(int(y) - 1)\n",
    "    diff_key = f\"{prior} - {y}\"\n",
    "    earn_diff = (yoy_metrics[y][\"Earnings\"] - yoy_metrics[prior][\"Earnings\"]) / yoy_metrics[prior][\"Earnings\"] * 100\n",
    "    rev_diff = (yoy_metrics[y][\"Revenue\"] - yoy_metrics[prior][\"Revenue\"]) / yoy_metrics[prior][\"Revenue\"] * 100\n",
    "    opcash_diff = (yoy_metrics[y][\"Cash Flow\"] - yoy_metrics[prior][\"Cash Flow\"]) / yoy_metrics[prior][\"Cash Flow\"] * 100\n",
    "    calculations[diff_key] = {\"Earnings\":earn_diff, \"Revenue\":rev_diff, \"Cash Flow\":opcash_diff}\n",
    "\n",
    "print(\"Year\\t\\tEarnings\\tRevenue\\t\\tOperating Cash Flow\")\n",
    "\n",
    "for y in calculations.keys():\n",
    "    pme = f\"\"\"{y}\\t{calculations[y]['Earnings']:.2f}%\\t\\t{calculations[y][\"Revenue\"]:.2f}%\\t\\t{calculations[y][\"Cash Flow\"]:.2f}%\"\"\"\n",
    "    print(pme)"
   ]
  }
 ],
 "metadata": {
  "kernelspec": {
   "display_name": "Python 3",
   "language": "python",
   "name": "python3"
  },
  "language_info": {
   "codemirror_mode": {
    "name": "ipython",
    "version": 3
   },
   "file_extension": ".py",
   "mimetype": "text/x-python",
   "name": "python",
   "nbconvert_exporter": "python",
   "pygments_lexer": "ipython3",
   "version": "3.10.9"
  },
  "orig_nbformat": 4,
  "vscode": {
   "interpreter": {
    "hash": "cc2a200e1e6dab10c4dc3986f0e7a998296447c993c26561a1bd050a849d8214"
   }
  }
 },
 "nbformat": 4,
 "nbformat_minor": 2
}
